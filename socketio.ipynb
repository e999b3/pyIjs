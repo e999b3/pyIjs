{
 "cells": [
  {
   "cell_type": "code",
   "execution_count": null,
   "metadata": {},
   "outputs": [
    {
     "name": "stdout",
     "output_type": "stream",
     "text": [
      "Note: API not available due to missing dependencies: geometry.add_representation - No module named 'bpy'\n",
      "Note: API not available due to missing dependencies: grid.create_axis_curve - No module named 'bpy'\n",
      "Connected to the server.\n",
      "{'model_path': './static/ifc/autodesk/demo/gldnug.ifc'}\n",
      "./static/ifc/autodesk/demo/gldnug.ifc\n",
      "user_opens <ifcopenshell.file.file object at 0x7f94902f6450>\n",
      "Data received: {'guids': ['0Ow0sBmRX07BDLlg6ad73X']}\n",
      "Pset_RoofCommon                             0\n",
      "IsExternal               True\n",
      "Reference      Ziegeldach 360\n",
      "ProjectedArea      118.215879\n",
      "TotalArea          172.529098\n",
      "id                      90723\n",
      "Data received: {'guids': ['1uVJaLl7TBoPtervh65BRe']}\n",
      "Pset_SlabCommon                                  0\n",
      "IsExternal                    True\n",
      "Reference             Blechdach 40\n",
      "ThermalTransmittance         4.175\n",
      "PitchAngle               33.165746\n",
      "id                          406163\n"
     ]
    }
   ],
   "source": [
    "import socketio\n",
    "import ifcopenshell\n",
    "import ifcopenshell.api\n",
    "import ifcopenshell.api.pset\n",
    "import ifcopenshell.util.element\n",
    "import pandas as pd\n",
    "\n",
    "# Create a Socket.IO client\n",
    "sio = socketio.Client()\n",
    "d = {}\n",
    "\n",
    "# Define event handlers\n",
    "@sio.event\n",
    "def connect():\n",
    "    print(\"Connected to the server.\")\n",
    "\n",
    "@sio.event\n",
    "def disconnect():\n",
    "    print(\"Disconnected from the server.\")\n",
    "\n",
    "@sio.event\n",
    "def user_opens(data):\n",
    "    print(data)\n",
    "    print(data['model_path'])\n",
    "    d['model_path'] = data['model_path']\n",
    "    d['ifc'] = ifcopenshell.open(data['model_path'])\n",
    "    print('user_opens', d['ifc'])\n",
    "\n",
    "def get_psets(e): return ifcopenshell.util.element.get_psets(e, psets_only=True)\n",
    "def get_qtos(e): return ifcopenshell.util.element.get_psets(e, qtos_only=True)\n",
    "\n",
    "@sio.on('highlighting')\n",
    "def on_event(data):\n",
    "    print(\"Data received:\", data)\n",
    "    d['guids'] = data['guids']\n",
    "    ifc = d['ifc']\n",
    "    for guid in d['guids']:\n",
    "        e = ifc.by_guid(guid)\n",
    "        psets = get_psets(e)\n",
    "        for key, pset in dict(sorted(psets.items())).items():\n",
    "            if \"Common\" in key:\n",
    "                print(key, pd.DataFrame.from_dict(pset, 'index'))\n",
    "        qtos = get_qtos(e)\n",
    "        for k, qto in dict(sorted(qtos.items())).items():\n",
    "            if \"Qto\" in k:\n",
    "                print(k, pd.DataFrame.from_dict(qto, 'index'))\n",
    "\n",
<<<<<<< Updated upstream
    "# Change the url of your app\n",
    "cloud_run_url = 'http://127.0.0.1:8000/' # This is local hosted url\n",
    "# cloud_run_url = 'https://pyijs-xxxxxxxxxxxx.europe-west6.run.app' # This could be the url of your deployed app on google cloud\n",
=======
    "# App's public URL on Google Cloud\n",
    "# cloud_run_url = 'http://127.0.0.1:8000/' \n",
    "cloud_run_url = 'https://pyijs-196533177105.europe-west6.run.app/' \n",
>>>>>>> Stashed changes
    "\n",
    "# Connect to the Flask-SocketIO server\n",
    "sio.connect(cloud_run_url)\n",
    "sio.emit('feeds', 'Hello from Jupyter coding frontend!')\n",
    "\n",
    "# Keep the client running to listen for events\n",
    "sio.wait()"
   ]
  }
 ],
 "metadata": {
  "kernelspec": {
   "display_name": "pyIjs",
   "language": "python",
   "name": "python3"
  },
  "language_info": {
   "codemirror_mode": {
    "name": "ipython",
    "version": 3
   },
   "file_extension": ".py",
   "mimetype": "text/x-python",
   "name": "python",
   "nbconvert_exporter": "python",
   "pygments_lexer": "ipython3",
   "version": "3.11.7"
  }
 },
 "nbformat": 4,
 "nbformat_minor": 2
}
