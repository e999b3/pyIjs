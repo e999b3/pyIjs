{
 "cells": [
  {
   "cell_type": "code",
   "execution_count": null,
   "metadata": {},
   "outputs": [],
   "source": [
    "import socketio\n",
    "soc = socketio.Client()\n",
    "\n",
    "import logging\n",
    "logging.basicConfig(level=logging.DEBUG)\n",
    "\n",
    "import ifcopenshell\n",
    "\n",
    "d = {}\n",
    "\n",
    "@soc.event\n",
    "def connect():\n",
    "    print('connected to Jupyter coding frontend')\n",
    "\n",
    "soc.connect(\"http://127.0.0.1:8080\", transports=['polling'])\n",
    "soc.emit('feeds', 'Hello from Jupyter coding frontend!')\n",
    "\n",
    "@soc.event\n",
    "def user_opens(data):\n",
    "    d['model_path'] = data['model_path']\n",
    "    d['ifc'] = ifcopenshell.open(data['model_path'])\n",
    "    print('user_opens', d['ifc'])\n",
    "\n",
    "@soc.on('highlighting')\n",
    "def get_highlighted(data):\n",
    "    print(data)\n",
    "    d['guids'] = data['guids']\n",
    "\n",
    "\n",
    "# soc.wait()"
   ]
  },
  {
   "cell_type": "code",
   "execution_count": 2,
   "metadata": {},
   "outputs": [],
   "source": [
    "import ifcopenshell\n",
    "import ifcopenshell.api\n",
    "import ifcopenshell.api.pset\n",
    "import ifcopenshell.util.element\n",
    "import pandas as pd"
   ]
  },
  {
   "cell_type": "code",
   "execution_count": null,
   "metadata": {},
   "outputs": [],
   "source": [
    "def get_psets(e): return ifcopenshell.util.element.get_psets(e, psets_only=True)\n",
    "def get_qtos(e): return ifcopenshell.util.element.get_psets(e, qtos_only=True)\n"
   ]
  },
  {
   "cell_type": "code",
   "execution_count": null,
   "metadata": {},
   "outputs": [],
   "source": [
    "import gui_mulproc_table as gmt\n",
    "import importlib\n",
    "importlib.reload(gmt)\n",
    "# Read selected/highlighted element from frontend\n",
    "ifc = d['ifc']\n",
    "guids = d['guids']\n",
    "for guid in d['guids']:\n",
    "    e = ifc.by_guid(guid)\n",
    "    dct = dict(sorted(get_psets(e).items()))\n",
    "\n",
    "    dfs = {}\n",
    "    for k, pset in dct.items():\n",
    "        print(k, pset)\n",
    "        pst = pd.DataFrame.from_dict(pset, 'index')\n",
    "        print(pst)\n",
    "        pst = pst.reset_index()\n",
    "        #pst.set_index(pst.index)\n",
    "        dfs[k] = pst\n",
    "\n",
    "    exported_data = gmt.run_tkinter_gui(dfs)\n",
    "\n",
    "    # agt.show_dataframes_as_tabs(dfs)\n",
    "    # for k, pset in get_psets(e).items():\n",
    "    #     print(k, pset)\n",
    "    #     print(pd.DataFrame.from_dict(pset, orient='index'))"
   ]
  },
  {
   "cell_type": "code",
   "execution_count": null,
   "metadata": {},
   "outputs": [],
   "source": [
    "exported_data"
   ]
  }
 ],
 "metadata": {
  "kernelspec": {
   "display_name": "3.11.7",
   "language": "python",
   "name": "python3"
  },
  "language_info": {
   "codemirror_mode": {
    "name": "ipython",
    "version": 3
   },
   "file_extension": ".py",
   "mimetype": "text/x-python",
   "name": "python",
   "nbconvert_exporter": "python",
   "pygments_lexer": "ipython3",
   "version": "3.11.7"
  }
 },
 "nbformat": 4,
 "nbformat_minor": 2
}
